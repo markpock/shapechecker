{
 "cells": [
  {
   "cell_type": "code",
   "execution_count": null,
   "metadata": {},
   "outputs": [],
   "source": [
    "'''\n",
    "Each node represents a construct in the code. \n",
    "The tree preserves the relationships between different parts of the code. \n",
    "'''\n",
    "import ast\n",
    "\n",
    "sample_code = \"\"\"\n",
    "def calculate(x, y: int) -> float:\n",
    "    '''This is a docstring'''\n",
    "    result = x + y\n",
    "    if result > 10:\n",
    "        print(\"Large result\")\n",
    "    return result * 2.5\n",
    "\"\"\"\n",
    "tree = ast.parse(sample_code)\n"
   ]
  },
  {
   "cell_type": "code",
   "execution_count": 2,
   "metadata": {},
   "outputs": [
    {
     "data": {
      "text/plain": [
       "True"
      ]
     },
     "execution_count": 2,
     "metadata": {},
     "output_type": "execute_result"
    }
   ],
   "source": [
    "isinstance(tree, ast.AST)"
   ]
  },
  {
   "cell_type": "code",
   "execution_count": null,
   "metadata": {},
   "outputs": [],
   "source": []
  }
 ],
 "metadata": {
  "kernelspec": {
   "display_name": "venv",
   "language": "python",
   "name": "python3"
  },
  "language_info": {
   "codemirror_mode": {
    "name": "ipython",
    "version": 3
   },
   "file_extension": ".py",
   "mimetype": "text/x-python",
   "name": "python",
   "nbconvert_exporter": "python",
   "pygments_lexer": "ipython3",
   "version": "3.13.1"
  }
 },
 "nbformat": 4,
 "nbformat_minor": 2
}
